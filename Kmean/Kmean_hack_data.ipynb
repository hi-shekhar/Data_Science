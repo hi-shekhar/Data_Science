{
 "cells": [
  {
   "cell_type": "markdown",
   "metadata": {},
   "source": [
    "https://jakevdp.github.io/PythonDataScienceHandbook/05.11-k-means.html\n",
    "\n",
    "The k-means algorithm searches for a pre-determined number of clusters within an unlabeled multidimensional dataset. It accomplishes this using a simple conception of what the optimal clustering looks like:\n",
    "1. The \"cluster center\" is the arithmetic mean of all the points belonging to the cluster.\n",
    "2. Each point is closer to its own cluster center than to other cluster centers.\n",
    "\n",
    "The expectation–maximization approach here consists of the following procedure:\n",
    "1. Guess some cluster centers\n",
    "2. Repeat until converged\n",
    "   1. E-Step: assign points to the nearest cluster center. It involves updating our expectation of which cluster each point belongs to.\n",
    "   2. M-Step: set the cluster centers to the mean.It involves maximizing some fitness function (simple mean of the data in each cluster) that defines the location of the cluster centers.\n",
    "   \n",
    "k-means is limited to linear cluster boundaries"
   ]
  },
  {
   "cell_type": "code",
   "execution_count": 1,
   "metadata": {},
   "outputs": [],
   "source": [
    "# Importing helpful package to load and hadle our data\n",
    "import pandas as pd\n",
    "import numpy as np\n",
    "\n",
    "# import package for visualization\n",
    "import matplotlib.pyplot as plt\n",
    "import seaborn as sns\n",
    "\n",
    "# Inline Priting of Visualizations\n",
    "sns.set()\n",
    "%matplotlib inline\n",
    "\n",
    "# flexible and easy-to-use missing data visualizations\n",
    "import missingno as msno\n",
    "\n",
    "#  Import SK-Learn Library\n",
    "from sklearn.cluster import KMeans\n",
    "from sklearn.preprocessing import StandardScaler\n",
    "from sklearn.metrics import confusion_matrix,classification_report\n",
    "\n",
    "# Ignore warnings :\n",
    "import warnings\n",
    "warnings.filterwarnings('ignore')"
   ]
  },
  {
   "cell_type": "code",
   "execution_count": 2,
   "metadata": {},
   "outputs": [
    {
     "data": {
      "text/html": [
       "<div>\n",
       "<style scoped>\n",
       "    .dataframe tbody tr th:only-of-type {\n",
       "        vertical-align: middle;\n",
       "    }\n",
       "\n",
       "    .dataframe tbody tr th {\n",
       "        vertical-align: top;\n",
       "    }\n",
       "\n",
       "    .dataframe thead th {\n",
       "        text-align: right;\n",
       "    }\n",
       "</style>\n",
       "<table border=\"1\" class=\"dataframe\">\n",
       "  <thead>\n",
       "    <tr style=\"text-align: right;\">\n",
       "      <th></th>\n",
       "      <th>Session_Connection_Time</th>\n",
       "      <th>Bytes Transferred</th>\n",
       "      <th>Kali_Trace_Used</th>\n",
       "      <th>Servers_Corrupted</th>\n",
       "      <th>Pages_Corrupted</th>\n",
       "      <th>Location</th>\n",
       "      <th>WPM_Typing_Speed</th>\n",
       "      <th>hack</th>\n",
       "    </tr>\n",
       "  </thead>\n",
       "  <tbody>\n",
       "    <tr>\n",
       "      <th>0</th>\n",
       "      <td>8.0</td>\n",
       "      <td>391.09</td>\n",
       "      <td>1</td>\n",
       "      <td>2.96</td>\n",
       "      <td>7.0</td>\n",
       "      <td>Slovenia</td>\n",
       "      <td>72.37</td>\n",
       "      <td>1</td>\n",
       "    </tr>\n",
       "    <tr>\n",
       "      <th>1</th>\n",
       "      <td>20.0</td>\n",
       "      <td>720.99</td>\n",
       "      <td>0</td>\n",
       "      <td>3.04</td>\n",
       "      <td>9.0</td>\n",
       "      <td>British Virgin Islands</td>\n",
       "      <td>69.08</td>\n",
       "      <td>1</td>\n",
       "    </tr>\n",
       "    <tr>\n",
       "      <th>2</th>\n",
       "      <td>31.0</td>\n",
       "      <td>356.32</td>\n",
       "      <td>1</td>\n",
       "      <td>3.71</td>\n",
       "      <td>8.0</td>\n",
       "      <td>Tokelau</td>\n",
       "      <td>70.58</td>\n",
       "      <td>1</td>\n",
       "    </tr>\n",
       "    <tr>\n",
       "      <th>3</th>\n",
       "      <td>2.0</td>\n",
       "      <td>228.08</td>\n",
       "      <td>1</td>\n",
       "      <td>2.48</td>\n",
       "      <td>8.0</td>\n",
       "      <td>Bolivia</td>\n",
       "      <td>70.80</td>\n",
       "      <td>1</td>\n",
       "    </tr>\n",
       "    <tr>\n",
       "      <th>4</th>\n",
       "      <td>20.0</td>\n",
       "      <td>408.50</td>\n",
       "      <td>0</td>\n",
       "      <td>3.57</td>\n",
       "      <td>8.0</td>\n",
       "      <td>Iraq</td>\n",
       "      <td>71.28</td>\n",
       "      <td>1</td>\n",
       "    </tr>\n",
       "  </tbody>\n",
       "</table>\n",
       "</div>"
      ],
      "text/plain": [
       "   Session_Connection_Time  Bytes Transferred  Kali_Trace_Used  \\\n",
       "0                      8.0             391.09                1   \n",
       "1                     20.0             720.99                0   \n",
       "2                     31.0             356.32                1   \n",
       "3                      2.0             228.08                1   \n",
       "4                     20.0             408.50                0   \n",
       "\n",
       "   Servers_Corrupted  Pages_Corrupted                Location  \\\n",
       "0               2.96              7.0                Slovenia   \n",
       "1               3.04              9.0  British Virgin Islands   \n",
       "2               3.71              8.0                 Tokelau   \n",
       "3               2.48              8.0                 Bolivia   \n",
       "4               3.57              8.0                    Iraq   \n",
       "\n",
       "   WPM_Typing_Speed  hack  \n",
       "0             72.37     1  \n",
       "1             69.08     1  \n",
       "2             70.58     1  \n",
       "3             70.80     1  \n",
       "4             71.28     1  "
      ]
     },
     "execution_count": 2,
     "metadata": {},
     "output_type": "execute_result"
    }
   ],
   "source": [
    "df = pd.read_csv(\"hack_data.csv\")\n",
    "df.head()"
   ]
  },
  {
   "cell_type": "code",
   "execution_count": 3,
   "metadata": {},
   "outputs": [
    {
     "data": {
      "text/plain": [
       "50     1\n",
       "104    1\n",
       "43     1\n",
       "186    0\n",
       "298    0\n",
       "Name: hack, dtype: int64"
      ]
     },
     "execution_count": 3,
     "metadata": {},
     "output_type": "execute_result"
    }
   ],
   "source": [
    "# dropping location\n",
    "df.drop('Location',inplace=True,axis =1)\n",
    "hack_output = df['hack']\n",
    "hack_output.sample(5)"
   ]
  },
  {
   "cell_type": "code",
   "execution_count": 4,
   "metadata": {},
   "outputs": [
    {
     "data": {
      "text/html": [
       "<div>\n",
       "<style scoped>\n",
       "    .dataframe tbody tr th:only-of-type {\n",
       "        vertical-align: middle;\n",
       "    }\n",
       "\n",
       "    .dataframe tbody tr th {\n",
       "        vertical-align: top;\n",
       "    }\n",
       "\n",
       "    .dataframe thead th {\n",
       "        text-align: right;\n",
       "    }\n",
       "</style>\n",
       "<table border=\"1\" class=\"dataframe\">\n",
       "  <thead>\n",
       "    <tr style=\"text-align: right;\">\n",
       "      <th></th>\n",
       "      <th>Session_Connection_Time</th>\n",
       "      <th>Bytes Transferred</th>\n",
       "      <th>Kali_Trace_Used</th>\n",
       "      <th>Servers_Corrupted</th>\n",
       "      <th>Pages_Corrupted</th>\n",
       "      <th>WPM_Typing_Speed</th>\n",
       "      <th>hack</th>\n",
       "    </tr>\n",
       "  </thead>\n",
       "  <tbody>\n",
       "    <tr>\n",
       "      <th>0</th>\n",
       "      <td>8.0</td>\n",
       "      <td>391.09</td>\n",
       "      <td>1</td>\n",
       "      <td>2.96</td>\n",
       "      <td>7.0</td>\n",
       "      <td>72.37</td>\n",
       "      <td>1</td>\n",
       "    </tr>\n",
       "    <tr>\n",
       "      <th>1</th>\n",
       "      <td>20.0</td>\n",
       "      <td>720.99</td>\n",
       "      <td>0</td>\n",
       "      <td>3.04</td>\n",
       "      <td>9.0</td>\n",
       "      <td>69.08</td>\n",
       "      <td>1</td>\n",
       "    </tr>\n",
       "    <tr>\n",
       "      <th>2</th>\n",
       "      <td>31.0</td>\n",
       "      <td>356.32</td>\n",
       "      <td>1</td>\n",
       "      <td>3.71</td>\n",
       "      <td>8.0</td>\n",
       "      <td>70.58</td>\n",
       "      <td>1</td>\n",
       "    </tr>\n",
       "    <tr>\n",
       "      <th>3</th>\n",
       "      <td>2.0</td>\n",
       "      <td>228.08</td>\n",
       "      <td>1</td>\n",
       "      <td>2.48</td>\n",
       "      <td>8.0</td>\n",
       "      <td>70.80</td>\n",
       "      <td>1</td>\n",
       "    </tr>\n",
       "    <tr>\n",
       "      <th>4</th>\n",
       "      <td>20.0</td>\n",
       "      <td>408.50</td>\n",
       "      <td>0</td>\n",
       "      <td>3.57</td>\n",
       "      <td>8.0</td>\n",
       "      <td>71.28</td>\n",
       "      <td>1</td>\n",
       "    </tr>\n",
       "  </tbody>\n",
       "</table>\n",
       "</div>"
      ],
      "text/plain": [
       "   Session_Connection_Time  Bytes Transferred  Kali_Trace_Used  \\\n",
       "0                      8.0             391.09                1   \n",
       "1                     20.0             720.99                0   \n",
       "2                     31.0             356.32                1   \n",
       "3                      2.0             228.08                1   \n",
       "4                     20.0             408.50                0   \n",
       "\n",
       "   Servers_Corrupted  Pages_Corrupted  WPM_Typing_Speed  hack  \n",
       "0               2.96              7.0             72.37     1  \n",
       "1               3.04              9.0             69.08     1  \n",
       "2               3.71              8.0             70.58     1  \n",
       "3               2.48              8.0             70.80     1  \n",
       "4               3.57              8.0             71.28     1  "
      ]
     },
     "execution_count": 4,
     "metadata": {},
     "output_type": "execute_result"
    }
   ],
   "source": [
    "df.head()"
   ]
  },
  {
   "cell_type": "code",
   "execution_count": 5,
   "metadata": {},
   "outputs": [
    {
     "data": {
      "text/plain": [
       "Text(0, 0.5, 'hack')"
      ]
     },
     "execution_count": 5,
     "metadata": {},
     "output_type": "execute_result"
    },
    {
     "data": {
      "image/png": "[encoded data removed]",
      "text/plain": [
       "<Figure size 432x288 with 1 Axes>"
      ]
     },
     "metadata": {
      "needs_background": "light"
     },
     "output_type": "display_data"
    }
   ],
   "source": [
    "# Relation between  byte transferred and hack\n",
    "plt.scatter(df['Bytes Transferred'],df['hack'])\n",
    "plt.xlabel('Bytes Transferred')\n",
    "plt.ylabel('hack')"
   ]
  },
  {
   "cell_type": "markdown",
   "metadata": {},
   "source": [
    "Relation between byte transferred and hack seems to be in binary form as we have two only two cluster one at 0 and other at \n",
    "1"
   ]
  },
  {
   "cell_type": "code",
   "execution_count": 6,
   "metadata": {},
   "outputs": [
    {
     "data": {
      "text/plain": [
       "Text(0, 0.5, 'hack')"
      ]
     },
     "execution_count": 6,
     "metadata": {},
     "output_type": "execute_result"
    },
    {
     "data": {
      "image/png": "[encoded data removed]",
      "text/plain": [
       "<Figure size 432x288 with 1 Axes>"
      ]
     },
     "metadata": {
      "needs_background": "light"
     },
     "output_type": "display_data"
    }
   ],
   "source": [
    "# relation between server_corrupted and hack\n",
    "plt.scatter(df['Servers_Corrupted'],df['hack'])\n",
    "plt.xlabel('Servers_Corrupted')\n",
    "plt.ylabel('hack')"
   ]
  },
  {
   "cell_type": "markdown",
   "metadata": {},
   "source": [
    "Relation between server_corrupted and hack seems to be in binary form as we have two only two cluster one at 0 and other at \n",
    "1"
   ]
  },
  {
   "cell_type": "code",
   "execution_count": 7,
   "metadata": {},
   "outputs": [
    {
     "data": {
      "text/plain": [
       "Text(0, 0.5, 'hack')"
      ]
     },
     "execution_count": 7,
     "metadata": {},
     "output_type": "execute_result"
    },
    {
     "data": {
      "image/png": "[encoded data removed]",
      "text/plain": [
       "<Figure size 432x288 with 1 Axes>"
      ]
     },
     "metadata": {
      "needs_background": "light"
     },
     "output_type": "display_data"
    }
   ],
   "source": [
    "# relation between page corrupted and hack\n",
    "plt.scatter(df['Pages_Corrupted'],df['hack'])\n",
    "plt.xlabel('Pages Corrupted')\n",
    "plt.ylabel('hack')"
   ]
  },
  {
   "cell_type": "markdown",
   "metadata": {},
   "source": [
    "Relation between page corrupted and hack seems to be in binary form as we have two only two cluster one at 0 and other at 1"
   ]
  },
  {
   "cell_type": "code",
   "execution_count": 8,
   "metadata": {},
   "outputs": [
    {
     "data": {
      "text/plain": [
       "Text(0, 0.5, 'hack')"
      ]
     },
     "execution_count": 8,
     "metadata": {},
     "output_type": "execute_result"
    },
    {
     "data": {
      "image/png": "[encoded data removed]",
      "text/plain": [
       "<Figure size 432x288 with 1 Axes>"
      ]
     },
     "metadata": {
      "needs_background": "light"
     },
     "output_type": "display_data"
    }
   ],
   "source": [
    "# relation between WPM_Typing_Speed and hack\n",
    "plt.scatter(df['WPM_Typing_Speed'],df['hack'])\n",
    "plt.xlabel('WPM Typing Speed')\n",
    "plt.ylabel('hack')"
   ]
  },
  {
   "cell_type": "markdown",
   "metadata": {},
   "source": [
    "Relation between WPM_Typing_Speed and hack seems to be in binary form as we have two only two cluster one at 0 and other at 1"
   ]
  },
  {
   "cell_type": "markdown",
   "metadata": {},
   "source": [
    "It seems that we will have only two cluster as most all feature are giving two cluster wrt to hack(our output feature). But we can use elbow plot to check our own prediction"
   ]
  },
  {
   "cell_type": "code",
   "execution_count": 9,
   "metadata": {},
   "outputs": [],
   "source": [
    "# dropping output label = hack\n",
    "df.drop('hack',inplace=True,axis =1)"
   ]
  },
  {
   "cell_type": "markdown",
   "metadata": {},
   "source": [
    "Elbow Plot"
   ]
  },
  {
   "cell_type": "code",
   "execution_count": 10,
   "metadata": {},
   "outputs": [],
   "source": [
    "sum_of_sqr_err = []\n",
    "kmean_rng = range(1,10)\n",
    "for k in kmean_rng:\n",
    "    km = KMeans(n_clusters=k)\n",
    "    km.fit(df)\n",
    "    sum_of_sqr_err.append(km.inertia_)"
   ]
  },
  {
   "cell_type": "code",
   "execution_count": 11,
   "metadata": {},
   "outputs": [
    {
     "data": {
      "text/plain": [
       "[<matplotlib.lines.Line2D at 0x17855b38240>]"
      ]
     },
     "execution_count": 11,
     "metadata": {},
     "output_type": "execute_result"
    },
    {
     "data": {
      "image/png": "[encoded data removed]",
      "text/plain": [
       "<Figure size 432x288 with 1 Axes>"
      ]
     },
     "metadata": {
      "needs_background": "light"
     },
     "output_type": "display_data"
    }
   ],
   "source": [
    "plt.xlabel('K')\n",
    "plt.ylabel('Sum of squared error')\n",
    "plt.plot(kmean_rng,sum_of_sqr_err)"
   ]
  },
  {
   "cell_type": "markdown",
   "metadata": {},
   "source": [
    "We will take k = 2 as getting elbow at 2"
   ]
  },
  {
   "cell_type": "markdown",
   "metadata": {},
   "source": [
    "Preprocessing using standard scaler, as all column has data of different diemensions"
   ]
  },
  {
   "cell_type": "code",
   "execution_count": 12,
   "metadata": {},
   "outputs": [],
   "source": [
    "sc_X = StandardScaler()\n",
    "numericals =  pd.DataFrame(sc_X.fit_transform(df[['Session_Connection_Time','Bytes Transferred','Kali_Trace_Used','Servers_Corrupted','Pages_Corrupted','WPM_Typing_Speed']]),\n",
    "                           columns=['Session_Connection_Time','Bytes Transferred','Kali_Trace_Used','Servers_Corrupted','Pages_Corrupted','WPM_Typing_Speed'],\n",
    "                           index=df.index)"
   ]
  },
  {
   "cell_type": "code",
   "execution_count": 13,
   "metadata": {},
   "outputs": [
    {
     "data": {
      "text/html": [
       "<div>\n",
       "<style scoped>\n",
       "    .dataframe tbody tr th:only-of-type {\n",
       "        vertical-align: middle;\n",
       "    }\n",
       "\n",
       "    .dataframe tbody tr th {\n",
       "        vertical-align: top;\n",
       "    }\n",
       "\n",
       "    .dataframe thead th {\n",
       "        text-align: right;\n",
       "    }\n",
       "</style>\n",
       "<table border=\"1\" class=\"dataframe\">\n",
       "  <thead>\n",
       "    <tr style=\"text-align: right;\">\n",
       "      <th></th>\n",
       "      <th>Session_Connection_Time</th>\n",
       "      <th>Bytes Transferred</th>\n",
       "      <th>Kali_Trace_Used</th>\n",
       "      <th>Servers_Corrupted</th>\n",
       "      <th>Pages_Corrupted</th>\n",
       "      <th>WPM_Typing_Speed</th>\n",
       "    </tr>\n",
       "  </thead>\n",
       "  <tbody>\n",
       "    <tr>\n",
       "      <th>0</th>\n",
       "      <td>-1.564572</td>\n",
       "      <td>-0.756034</td>\n",
       "      <td>0.976328</td>\n",
       "      <td>-1.000019</td>\n",
       "      <td>-1.254790</td>\n",
       "      <td>1.122219</td>\n",
       "    </tr>\n",
       "    <tr>\n",
       "      <th>1</th>\n",
       "      <td>-0.711517</td>\n",
       "      <td>0.397838</td>\n",
       "      <td>-1.024246</td>\n",
       "      <td>-0.965213</td>\n",
       "      <td>-0.600968</td>\n",
       "      <td>0.876531</td>\n",
       "    </tr>\n",
       "    <tr>\n",
       "      <th>2</th>\n",
       "      <td>0.070449</td>\n",
       "      <td>-0.877647</td>\n",
       "      <td>0.976328</td>\n",
       "      <td>-0.673714</td>\n",
       "      <td>-0.927879</td>\n",
       "      <td>0.988547</td>\n",
       "    </tr>\n",
       "    <tr>\n",
       "      <th>3</th>\n",
       "      <td>-1.991099</td>\n",
       "      <td>-1.326184</td>\n",
       "      <td>0.976328</td>\n",
       "      <td>-1.208855</td>\n",
       "      <td>-0.927879</td>\n",
       "      <td>1.004976</td>\n",
       "    </tr>\n",
       "    <tr>\n",
       "      <th>4</th>\n",
       "      <td>-0.711517</td>\n",
       "      <td>-0.695140</td>\n",
       "      <td>-1.024246</td>\n",
       "      <td>-0.734624</td>\n",
       "      <td>-0.927879</td>\n",
       "      <td>1.040821</td>\n",
       "    </tr>\n",
       "  </tbody>\n",
       "</table>\n",
       "</div>"
      ],
      "text/plain": [
       "   Session_Connection_Time  Bytes Transferred  Kali_Trace_Used  \\\n",
       "0                -1.564572          -0.756034         0.976328   \n",
       "1                -0.711517           0.397838        -1.024246   \n",
       "2                 0.070449          -0.877647         0.976328   \n",
       "3                -1.991099          -1.326184         0.976328   \n",
       "4                -0.711517          -0.695140        -1.024246   \n",
       "\n",
       "   Servers_Corrupted  Pages_Corrupted  WPM_Typing_Speed  \n",
       "0          -1.000019        -1.254790          1.122219  \n",
       "1          -0.965213        -0.600968          0.876531  \n",
       "2          -0.673714        -0.927879          0.988547  \n",
       "3          -1.208855        -0.927879          1.004976  \n",
       "4          -0.734624        -0.927879          1.040821  "
      ]
     },
     "execution_count": 13,
     "metadata": {},
     "output_type": "execute_result"
    }
   ],
   "source": [
    "numericals.head()"
   ]
  },
  {
   "cell_type": "code",
   "execution_count": 14,
   "metadata": {},
   "outputs": [
    {
     "data": {
      "text/plain": [
       "array([0, 1, 0, 0, 0, 0, 0, 0, 0, 0, 0, 0, 0, 0, 1, 0, 0, 0, 0, 0, 0, 0,\n",
       "       0, 0, 0, 0, 0, 0, 0, 0, 0, 0, 0, 0, 0, 0, 0, 0, 0, 0, 0, 0, 0, 0,\n",
       "       0, 0, 0, 1, 0, 0, 1, 0, 0, 0, 0, 0, 0, 0, 0, 0, 0, 0, 0, 0, 0, 0,\n",
       "       0, 0, 0, 0, 0, 0, 0, 1, 0, 0, 0, 0, 0, 0, 0, 0, 0, 0, 0, 0, 0, 0,\n",
       "       0, 0, 0, 1, 0, 0, 0, 0, 0, 0, 0, 1, 0, 1, 0, 0, 0, 0, 0, 0, 0, 0,\n",
       "       0, 0, 0, 0, 1, 0, 0, 0, 1, 0, 0, 1, 0, 0, 0, 0, 0, 0, 0, 0, 0, 0,\n",
       "       0, 0, 0, 0, 1, 0, 0, 0, 0, 0, 0, 0, 0, 0, 0, 0, 0, 1, 0, 0, 1, 0,\n",
       "       0, 0, 0, 1, 0, 0, 1, 0, 0, 0, 0, 0, 0, 0, 1, 1, 1, 1, 1, 0, 1, 1,\n",
       "       1, 1, 0, 1, 1, 1, 1, 1, 1, 1, 1, 1, 1, 1, 1, 0, 1, 1, 1, 1, 1, 1,\n",
       "       1, 0, 1, 1, 0, 1, 1, 1, 1, 1, 1, 1, 1, 1, 1, 1, 1, 0, 1, 1, 1, 1,\n",
       "       0, 1, 1, 1, 1, 1, 1, 1, 1, 1, 1, 1, 0, 1, 0, 1, 1, 1, 1, 1, 1, 1,\n",
       "       0, 1, 1, 1, 1, 1, 1, 1, 1, 1, 1, 1, 0, 1, 1, 1, 1, 1, 0, 1, 1, 1,\n",
       "       1, 1, 1, 1, 1, 0, 1, 1, 1, 0, 1, 1, 1, 1, 1, 1, 1, 1, 0, 1, 0, 1,\n",
       "       0, 1, 1, 1, 1, 1, 1, 1, 1, 1, 0, 1, 1, 1, 1, 1, 1, 1, 1, 1, 1, 1,\n",
       "       1, 1, 1, 1, 1, 1, 1, 1, 1, 1, 1, 1, 1, 0, 1, 1, 1, 1, 1, 1, 1, 1,\n",
       "       1, 1, 1, 1])"
      ]
     },
     "execution_count": 14,
     "metadata": {},
     "output_type": "execute_result"
    }
   ],
   "source": [
    "km = KMeans(n_clusters=2)\n",
    "y_predicted = km.fit_predict(df)\n",
    "y_predicted"
   ]
  },
  {
   "cell_type": "code",
   "execution_count": 15,
   "metadata": {},
   "outputs": [
    {
     "data": {
      "text/plain": [
       "array([[2.03742690e+01, 3.65678772e+02, 4.91228070e-01, 3.65023392e+00,\n",
       "        8.54385965e+00, 6.74745029e+01],\n",
       "       [4.01165644e+01, 8.60667791e+02, 5.33742331e-01, 6.94570552e+00,\n",
       "        1.32453988e+01, 4.67130061e+01]])"
      ]
     },
     "execution_count": 15,
     "metadata": {},
     "output_type": "execute_result"
    }
   ],
   "source": [
    "#cluster_centers_ is  array, [n_clusters, n_features] Coordinates of cluster centers.\n",
    "km.cluster_centers_"
   ]
  },
  {
   "cell_type": "code",
   "execution_count": 16,
   "metadata": {},
   "outputs": [
    {
     "name": "stdout",
     "output_type": "stream",
     "text": [
      "[[ 20 147]\n",
      " [151  16]]\n",
      "              precision    recall  f1-score   support\n",
      "\n",
      "           0       0.12      0.12      0.12       167\n",
      "           1       0.10      0.10      0.10       167\n",
      "\n",
      "   micro avg       0.11      0.11      0.11       334\n",
      "   macro avg       0.11      0.11      0.11       334\n",
      "weighted avg       0.11      0.11      0.11       334\n",
      "\n"
     ]
    }
   ],
   "source": [
    "print(confusion_matrix(hack_output,km.labels_))\n",
    "print(classification_report(hack_output,km.labels_))"
   ]
  },
  {
   "cell_type": "code",
   "execution_count": 17,
   "metadata": {},
   "outputs": [],
   "source": [
    "# True Positive :  Observation is positive, and is predicted to be positive.\n",
    "TP  = 147\n",
    "#  False Negative (FN) : Observation is positive, but is predicted negative.\n",
    "FN = 20\n",
    "# True Negative (TN) : Observation is negative, and is predicted to be negative.\n",
    "TN = 151\n",
    "# False Positive (FP) : Observation is negative, but is predicted positive.\n",
    "FP = 16\n",
    "# total prediction\n",
    "total = TP + FN + TN + FP\n",
    "# total correct prediction\n",
    "correct_pred = TP+TN"
   ]
  },
  {
   "cell_type": "code",
   "execution_count": 18,
   "metadata": {},
   "outputs": [
    {
     "name": "stdout",
     "output_type": "stream",
     "text": [
      "89.22155688622755\n"
     ]
    }
   ],
   "source": [
    "accuracy = (correct_pred/total) * 100\n",
    "print(accuracy)"
   ]
  },
  {
   "cell_type": "code",
   "execution_count": 19,
   "metadata": {},
   "outputs": [
    {
     "name": "stdout",
     "output_type": "stream",
     "text": [
      "88.02395209580838\n"
     ]
    }
   ],
   "source": [
    "recall = (TP /(TP + FN) ) * 100\n",
    "print(recall)"
   ]
  },
  {
   "cell_type": "code",
   "execution_count": 20,
   "metadata": {},
   "outputs": [
    {
     "name": "stdout",
     "output_type": "stream",
     "text": [
      "90.1840490797546\n"
     ]
    }
   ],
   "source": [
    "precision = (TP/(TP + FP)) * 100\n",
    "print(precision)"
   ]
  },
  {
   "cell_type": "code",
   "execution_count": 21,
   "metadata": {},
   "outputs": [
    {
     "name": "stdout",
     "output_type": "stream",
     "text": [
      "89.0909090909091\n"
     ]
    }
   ],
   "source": [
    "'''Our recall and precision are almost comparable.But it is difficult to compare two models with low precision\n",
    "and high recall or vice versa. So to make them comparable, we use F-Score.\n",
    "F-score helps to measure Recall and Precision at the same time. \n",
    "It uses Harmonic Mean in place of Arithmetic Mean by punishing the extreme values more.'''\n",
    "\n",
    "fmeasure =( (2 * recall * precision) / (recall + precision))\n",
    "print(fmeasure)"
   ]
  }
 ],
 "metadata": {
  "kernelspec": {
   "display_name": "Python 3",
   "language": "python",
   "name": "python3"
  },
  "language_info": {
   "codemirror_mode": {
    "name": "ipython",
    "version": 3
   },
   "file_extension": ".py",
   "mimetype": "text/x-python",
   "name": "python",
   "nbconvert_exporter": "python",
   "pygments_lexer": "ipython3",
   "version": "3.7.1"
  }
 },
 "nbformat": 4,
 "nbformat_minor": 2
}
