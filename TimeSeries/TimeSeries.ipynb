{
 "cells": [
  {
   "cell_type": "markdown",
   "metadata": {},
   "source": [
    "https://www.nasdaq.com/symbol/gs/historical"
   ]
  },
  {
   "cell_type": "code",
   "execution_count": 4,
   "metadata": {},
   "outputs": [],
   "source": [
    "import pandas as pd\n",
    "%matplotlib inline\n"
   ]
  },
  {
   "cell_type": "code",
   "execution_count": 2,
   "metadata": {},
   "outputs": [
    {
     "data": {
      "text/html": [
       "<div>\n",
       "<style scoped>\n",
       "    .dataframe tbody tr th:only-of-type {\n",
       "        vertical-align: middle;\n",
       "    }\n",
       "\n",
       "    .dataframe tbody tr th {\n",
       "        vertical-align: top;\n",
       "    }\n",
       "\n",
       "    .dataframe thead th {\n",
       "        text-align: right;\n",
       "    }\n",
       "</style>\n",
       "<table border=\"1\" class=\"dataframe\">\n",
       "  <thead>\n",
       "    <tr style=\"text-align: right;\">\n",
       "      <th></th>\n",
       "      <th>close</th>\n",
       "      <th>volume</th>\n",
       "      <th>open</th>\n",
       "      <th>high</th>\n",
       "      <th>low</th>\n",
       "    </tr>\n",
       "    <tr>\n",
       "      <th>date</th>\n",
       "      <th></th>\n",
       "      <th></th>\n",
       "      <th></th>\n",
       "      <th></th>\n",
       "      <th></th>\n",
       "    </tr>\n",
       "  </thead>\n",
       "  <tbody>\n",
       "    <tr>\n",
       "      <th>2019-03-29</th>\n",
       "      <td>191.99</td>\n",
       "      <td>2632192.0</td>\n",
       "      <td>192.68</td>\n",
       "      <td>193.1050</td>\n",
       "      <td>191.14</td>\n",
       "    </tr>\n",
       "    <tr>\n",
       "      <th>2019-03-28</th>\n",
       "      <td>191.18</td>\n",
       "      <td>2332175.0</td>\n",
       "      <td>190.74</td>\n",
       "      <td>191.9086</td>\n",
       "      <td>189.29</td>\n",
       "    </tr>\n",
       "    <tr>\n",
       "      <th>2019-03-27</th>\n",
       "      <td>190.03</td>\n",
       "      <td>2335537.0</td>\n",
       "      <td>190.60</td>\n",
       "      <td>191.6100</td>\n",
       "      <td>188.74</td>\n",
       "    </tr>\n",
       "    <tr>\n",
       "      <th>2019-03-26</th>\n",
       "      <td>190.69</td>\n",
       "      <td>2909610.0</td>\n",
       "      <td>190.03</td>\n",
       "      <td>192.4100</td>\n",
       "      <td>188.69</td>\n",
       "    </tr>\n",
       "    <tr>\n",
       "      <th>2019-03-25</th>\n",
       "      <td>188.51</td>\n",
       "      <td>3751015.0</td>\n",
       "      <td>189.33</td>\n",
       "      <td>191.4500</td>\n",
       "      <td>186.50</td>\n",
       "    </tr>\n",
       "  </tbody>\n",
       "</table>\n",
       "</div>"
      ],
      "text/plain": [
       "             close     volume    open      high     low\n",
       "date                                                   \n",
       "2019-03-29  191.99  2632192.0  192.68  193.1050  191.14\n",
       "2019-03-28  191.18  2332175.0  190.74  191.9086  189.29\n",
       "2019-03-27  190.03  2335537.0  190.60  191.6100  188.74\n",
       "2019-03-26  190.69  2909610.0  190.03  192.4100  188.69\n",
       "2019-03-25  188.51  3751015.0  189.33  191.4500  186.50"
      ]
     },
     "execution_count": 2,
     "metadata": {},
     "output_type": "execute_result"
    }
   ],
   "source": [
    "# load required file, parse date and set index as date\n",
    "df = pd.read_csv('HistoricalQuotes.csv',parse_dates=['date'],index_col='date')\n",
    "df.head(5)"
   ]
  },
  {
   "cell_type": "code",
   "execution_count": 3,
   "metadata": {},
   "outputs": [
    {
     "data": {
      "text/html": [
       "<div>\n",
       "<style scoped>\n",
       "    .dataframe tbody tr th:only-of-type {\n",
       "        vertical-align: middle;\n",
       "    }\n",
       "\n",
       "    .dataframe tbody tr th {\n",
       "        vertical-align: top;\n",
       "    }\n",
       "\n",
       "    .dataframe thead th {\n",
       "        text-align: right;\n",
       "    }\n",
       "</style>\n",
       "<table border=\"1\" class=\"dataframe\">\n",
       "  <thead>\n",
       "    <tr style=\"text-align: right;\">\n",
       "      <th></th>\n",
       "      <th>close</th>\n",
       "      <th>volume</th>\n",
       "      <th>open</th>\n",
       "      <th>high</th>\n",
       "      <th>low</th>\n",
       "    </tr>\n",
       "  </thead>\n",
       "  <tbody>\n",
       "    <tr>\n",
       "      <th>2019-03-29</th>\n",
       "      <td>191.99</td>\n",
       "      <td>2632192.0</td>\n",
       "      <td>192.68</td>\n",
       "      <td>193.1050</td>\n",
       "      <td>191.14</td>\n",
       "    </tr>\n",
       "    <tr>\n",
       "      <th>2019-03-28</th>\n",
       "      <td>191.18</td>\n",
       "      <td>2332175.0</td>\n",
       "      <td>190.74</td>\n",
       "      <td>191.9086</td>\n",
       "      <td>189.29</td>\n",
       "    </tr>\n",
       "    <tr>\n",
       "      <th>2019-03-27</th>\n",
       "      <td>190.03</td>\n",
       "      <td>2335537.0</td>\n",
       "      <td>190.60</td>\n",
       "      <td>191.6100</td>\n",
       "      <td>188.74</td>\n",
       "    </tr>\n",
       "    <tr>\n",
       "      <th>2019-03-26</th>\n",
       "      <td>190.69</td>\n",
       "      <td>2909610.0</td>\n",
       "      <td>190.03</td>\n",
       "      <td>192.4100</td>\n",
       "      <td>188.69</td>\n",
       "    </tr>\n",
       "    <tr>\n",
       "      <th>2019-03-25</th>\n",
       "      <td>188.51</td>\n",
       "      <td>3751015.0</td>\n",
       "      <td>189.33</td>\n",
       "      <td>191.4500</td>\n",
       "      <td>186.50</td>\n",
       "    </tr>\n",
       "  </tbody>\n",
       "</table>\n",
       "</div>"
      ],
      "text/plain": [
       "             close     volume    open      high     low\n",
       "2019-03-29  191.99  2632192.0  192.68  193.1050  191.14\n",
       "2019-03-28  191.18  2332175.0  190.74  191.9086  189.29\n",
       "2019-03-27  190.03  2335537.0  190.60  191.6100  188.74\n",
       "2019-03-26  190.69  2909610.0  190.03  192.4100  188.69\n",
       "2019-03-25  188.51  3751015.0  189.33  191.4500  186.50"
      ]
     },
     "execution_count": 3,
     "metadata": {},
     "output_type": "execute_result"
    }
   ],
   "source": [
    "# Remove index name\n",
    "df.index.name = None\n",
    "df.head()"
   ]
  },
  {
   "cell_type": "code",
   "execution_count": 4,
   "metadata": {},
   "outputs": [
    {
     "data": {
      "text/plain": [
       "DatetimeIndex(['2018-03-12', '2018-03-13', '2018-03-14', '2018-03-15',\n",
       "               '2018-03-16', '2018-03-19', '2018-03-20', '2018-03-21',\n",
       "               '2018-03-22', '2018-03-23',\n",
       "               ...\n",
       "               '2019-02-28', '2019-03-01', '2019-03-04', '2019-03-05',\n",
       "               '2019-03-06', '2019-03-07', '2019-03-08', '2019-03-11',\n",
       "               '2019-03-12', '2019-03-13'],\n",
       "              dtype='datetime64[ns]', length=263, freq='B')"
      ]
     },
     "execution_count": 4,
     "metadata": {},
     "output_type": "execute_result"
    }
   ],
   "source": [
    "#  this db 13march date is missing, Actually intead of date time is given, so it convert that time into today date\n",
    "#  So, will apply date range to this df from 13 march 2019 to 12 march 2018\n",
    "pd.date_range(start=\"2018-03-12\",end=\"2019-03-13\",freq='B')"
   ]
  },
  {
   "cell_type": "code",
   "execution_count": 5,
   "metadata": {},
   "outputs": [
    {
     "data": {
      "text/html": [
       "<div>\n",
       "<style scoped>\n",
       "    .dataframe tbody tr th:only-of-type {\n",
       "        vertical-align: middle;\n",
       "    }\n",
       "\n",
       "    .dataframe tbody tr th {\n",
       "        vertical-align: top;\n",
       "    }\n",
       "\n",
       "    .dataframe thead th {\n",
       "        text-align: right;\n",
       "    }\n",
       "</style>\n",
       "<table border=\"1\" class=\"dataframe\">\n",
       "  <thead>\n",
       "    <tr style=\"text-align: right;\">\n",
       "      <th></th>\n",
       "      <th>close</th>\n",
       "      <th>volume</th>\n",
       "      <th>open</th>\n",
       "      <th>high</th>\n",
       "      <th>low</th>\n",
       "    </tr>\n",
       "  </thead>\n",
       "  <tbody>\n",
       "    <tr>\n",
       "      <th>2019-02-01</th>\n",
       "      <td>196.54</td>\n",
       "      <td>3142186.0000</td>\n",
       "      <td>198.00</td>\n",
       "      <td>199.64</td>\n",
       "      <td>196.54</td>\n",
       "    </tr>\n",
       "    <tr>\n",
       "      <th>2019-01-31</th>\n",
       "      <td>198.01</td>\n",
       "      <td>5602776.0000</td>\n",
       "      <td>200.10</td>\n",
       "      <td>202.35</td>\n",
       "      <td>196.95</td>\n",
       "    </tr>\n",
       "    <tr>\n",
       "      <th>2019-01-30</th>\n",
       "      <td>202.48</td>\n",
       "      <td>2771723.0000</td>\n",
       "      <td>200.90</td>\n",
       "      <td>203.29</td>\n",
       "      <td>199.65</td>\n",
       "    </tr>\n",
       "    <tr>\n",
       "      <th>2019-01-29</th>\n",
       "      <td>200.50</td>\n",
       "      <td>2690807.0000</td>\n",
       "      <td>199.00</td>\n",
       "      <td>201.97</td>\n",
       "      <td>197.87</td>\n",
       "    </tr>\n",
       "    <tr>\n",
       "      <th>2019-01-28</th>\n",
       "      <td>199.72</td>\n",
       "      <td>2360245.0000</td>\n",
       "      <td>197.99</td>\n",
       "      <td>200.07</td>\n",
       "      <td>197.10</td>\n",
       "    </tr>\n",
       "    <tr>\n",
       "      <th>2019-01-25</th>\n",
       "      <td>200.74</td>\n",
       "      <td>3274971.0000</td>\n",
       "      <td>199.83</td>\n",
       "      <td>201.19</td>\n",
       "      <td>199.42</td>\n",
       "    </tr>\n",
       "    <tr>\n",
       "      <th>2019-01-24</th>\n",
       "      <td>197.80</td>\n",
       "      <td>2631804.0000</td>\n",
       "      <td>196.22</td>\n",
       "      <td>199.68</td>\n",
       "      <td>195.76</td>\n",
       "    </tr>\n",
       "    <tr>\n",
       "      <th>2019-01-23</th>\n",
       "      <td>196.90</td>\n",
       "      <td>3409876.0000</td>\n",
       "      <td>197.55</td>\n",
       "      <td>198.09</td>\n",
       "      <td>194.53</td>\n",
       "    </tr>\n",
       "    <tr>\n",
       "      <th>2019-01-22</th>\n",
       "      <td>197.68</td>\n",
       "      <td>4642483.0000</td>\n",
       "      <td>200.50</td>\n",
       "      <td>201.47</td>\n",
       "      <td>195.92</td>\n",
       "    </tr>\n",
       "  </tbody>\n",
       "</table>\n",
       "</div>"
      ],
      "text/plain": [
       "             close        volume    open    high     low\n",
       "2019-02-01  196.54  3142186.0000  198.00  199.64  196.54\n",
       "2019-01-31  198.01  5602776.0000  200.10  202.35  196.95\n",
       "2019-01-30  202.48  2771723.0000  200.90  203.29  199.65\n",
       "2019-01-29  200.50  2690807.0000  199.00  201.97  197.87\n",
       "2019-01-28  199.72  2360245.0000  197.99  200.07  197.10\n",
       "2019-01-25  200.74  3274971.0000  199.83  201.19  199.42\n",
       "2019-01-24  197.80  2631804.0000  196.22  199.68  195.76\n",
       "2019-01-23  196.90  3409876.0000  197.55  198.09  194.53\n",
       "2019-01-22  197.68  4642483.0000  200.50  201.47  195.92"
      ]
     },
     "execution_count": 5,
     "metadata": {},
     "output_type": "execute_result"
    }
   ],
   "source": [
    "# this company is registered in USA, so its bussiness day will exclude USA holiday\n",
    "# Lets confirm \n",
    "#  Martin Luther King, Jr. Day jan 21\n",
    "df.loc['02-01-2019': '22-01-2019']"
   ]
  },
  {
   "cell_type": "code",
   "execution_count": 6,
   "metadata": {},
   "outputs": [
    {
     "data": {
      "text/plain": [
       "DatetimeIndex(['2018-03-12', '2018-03-13', '2018-03-14', '2018-03-15',\n",
       "               '2018-03-16', '2018-03-19', '2018-03-20', '2018-03-21',\n",
       "               '2018-03-22', '2018-03-23',\n",
       "               ...\n",
       "               '2019-02-28', '2019-03-01', '2019-03-04', '2019-03-05',\n",
       "               '2019-03-06', '2019-03-07', '2019-03-08', '2019-03-11',\n",
       "               '2019-03-12', '2019-03-13'],\n",
       "              dtype='datetime64[ns]', length=253, freq='C')"
      ]
     },
     "execution_count": 6,
     "metadata": {},
     "output_type": "execute_result"
    }
   ],
   "source": [
    "#Actual date range changed by new date range. So, we will change freq with us Fedral holiday list\n",
    "from pandas.tseries.holiday import USFederalHolidayCalendar\n",
    "from pandas.tseries.offsets import CustomBusinessDay\n",
    "us_calendar = CustomBusinessDay(calendar=USFederalHolidayCalendar())\n",
    "new_date_range = pd.date_range(start=\"2018-03-12\",end=\"2019-03-13\", freq=us_calendar)\n",
    "new_date_range"
   ]
  },
  {
   "cell_type": "code",
   "execution_count": 7,
   "metadata": {},
   "outputs": [
    {
     "data": {
      "text/html": [
       "<div>\n",
       "<style scoped>\n",
       "    .dataframe tbody tr th:only-of-type {\n",
       "        vertical-align: middle;\n",
       "    }\n",
       "\n",
       "    .dataframe tbody tr th {\n",
       "        vertical-align: top;\n",
       "    }\n",
       "\n",
       "    .dataframe thead th {\n",
       "        text-align: right;\n",
       "    }\n",
       "</style>\n",
       "<table border=\"1\" class=\"dataframe\">\n",
       "  <thead>\n",
       "    <tr style=\"text-align: right;\">\n",
       "      <th></th>\n",
       "      <th>close</th>\n",
       "      <th>volume</th>\n",
       "      <th>open</th>\n",
       "      <th>high</th>\n",
       "      <th>low</th>\n",
       "    </tr>\n",
       "  </thead>\n",
       "  <tbody>\n",
       "    <tr>\n",
       "      <th>2019-03-13</th>\n",
       "      <td>198.65</td>\n",
       "      <td>324,639</td>\n",
       "      <td>197.89</td>\n",
       "      <td>198.9300</td>\n",
       "      <td>197.3900</td>\n",
       "    </tr>\n",
       "    <tr>\n",
       "      <th>2019-03-12</th>\n",
       "      <td>196.63</td>\n",
       "      <td>1976952.0000</td>\n",
       "      <td>196.00</td>\n",
       "      <td>197.3976</td>\n",
       "      <td>195.6900</td>\n",
       "    </tr>\n",
       "    <tr>\n",
       "      <th>2019-03-11</th>\n",
       "      <td>195.97</td>\n",
       "      <td>2663177.0000</td>\n",
       "      <td>197.23</td>\n",
       "      <td>198.9700</td>\n",
       "      <td>195.7300</td>\n",
       "    </tr>\n",
       "    <tr>\n",
       "      <th>2019-03-08</th>\n",
       "      <td>195.24</td>\n",
       "      <td>3162458.0000</td>\n",
       "      <td>190.40</td>\n",
       "      <td>195.7650</td>\n",
       "      <td>189.7118</td>\n",
       "    </tr>\n",
       "    <tr>\n",
       "      <th>2019-03-07</th>\n",
       "      <td>192.77</td>\n",
       "      <td>3567659.0000</td>\n",
       "      <td>193.13</td>\n",
       "      <td>193.4500</td>\n",
       "      <td>190.0800</td>\n",
       "    </tr>\n",
       "  </tbody>\n",
       "</table>\n",
       "</div>"
      ],
      "text/plain": [
       "             close        volume    open      high       low\n",
       "2019-03-13  198.65       324,639  197.89  198.9300  197.3900\n",
       "2019-03-12  196.63  1976952.0000  196.00  197.3976  195.6900\n",
       "2019-03-11  195.97  2663177.0000  197.23  198.9700  195.7300\n",
       "2019-03-08  195.24  3162458.0000  190.40  195.7650  189.7118\n",
       "2019-03-07  192.77  3567659.0000  193.13  193.4500  190.0800"
      ]
     },
     "execution_count": 7,
     "metadata": {},
     "output_type": "execute_result"
    }
   ],
   "source": [
    "# replace index with new one and date are from 2018 to 2019.So, will reverse date from 2019 to 2018 \n",
    "df.set_index(new_date_range[::-1],inplace=True)\n",
    "df.head()"
   ]
  },
  {
   "cell_type": "code",
   "execution_count": 19,
   "metadata": {},
   "outputs": [],
   "source": [
    "df.to_csv('gs.csv')"
   ]
  },
  {
   "cell_type": "code",
   "execution_count": 8,
   "metadata": {},
   "outputs": [
    {
     "data": {
      "text/html": [
       "<div>\n",
       "<style scoped>\n",
       "    .dataframe tbody tr th:only-of-type {\n",
       "        vertical-align: middle;\n",
       "    }\n",
       "\n",
       "    .dataframe tbody tr th {\n",
       "        vertical-align: top;\n",
       "    }\n",
       "\n",
       "    .dataframe thead th {\n",
       "        text-align: right;\n",
       "    }\n",
       "</style>\n",
       "<table border=\"1\" class=\"dataframe\">\n",
       "  <thead>\n",
       "    <tr style=\"text-align: right;\">\n",
       "      <th></th>\n",
       "      <th>close</th>\n",
       "      <th>volume</th>\n",
       "      <th>open</th>\n",
       "      <th>high</th>\n",
       "      <th>low</th>\n",
       "    </tr>\n",
       "  </thead>\n",
       "  <tbody>\n",
       "    <tr>\n",
       "      <th>2019-02-01</th>\n",
       "      <td>196.54</td>\n",
       "      <td>3142186.0000</td>\n",
       "      <td>198.00</td>\n",
       "      <td>199.64</td>\n",
       "      <td>196.54</td>\n",
       "    </tr>\n",
       "    <tr>\n",
       "      <th>2019-01-31</th>\n",
       "      <td>198.01</td>\n",
       "      <td>5602776.0000</td>\n",
       "      <td>200.10</td>\n",
       "      <td>202.35</td>\n",
       "      <td>196.95</td>\n",
       "    </tr>\n",
       "    <tr>\n",
       "      <th>2019-01-30</th>\n",
       "      <td>202.48</td>\n",
       "      <td>2771723.0000</td>\n",
       "      <td>200.90</td>\n",
       "      <td>203.29</td>\n",
       "      <td>199.65</td>\n",
       "    </tr>\n",
       "    <tr>\n",
       "      <th>2019-01-29</th>\n",
       "      <td>200.50</td>\n",
       "      <td>2690807.0000</td>\n",
       "      <td>199.00</td>\n",
       "      <td>201.97</td>\n",
       "      <td>197.87</td>\n",
       "    </tr>\n",
       "    <tr>\n",
       "      <th>2019-01-28</th>\n",
       "      <td>199.72</td>\n",
       "      <td>2360245.0000</td>\n",
       "      <td>197.99</td>\n",
       "      <td>200.07</td>\n",
       "      <td>197.10</td>\n",
       "    </tr>\n",
       "    <tr>\n",
       "      <th>2019-01-25</th>\n",
       "      <td>200.74</td>\n",
       "      <td>3274971.0000</td>\n",
       "      <td>199.83</td>\n",
       "      <td>201.19</td>\n",
       "      <td>199.42</td>\n",
       "    </tr>\n",
       "    <tr>\n",
       "      <th>2019-01-24</th>\n",
       "      <td>197.80</td>\n",
       "      <td>2631804.0000</td>\n",
       "      <td>196.22</td>\n",
       "      <td>199.68</td>\n",
       "      <td>195.76</td>\n",
       "    </tr>\n",
       "    <tr>\n",
       "      <th>2019-01-23</th>\n",
       "      <td>196.90</td>\n",
       "      <td>3409876.0000</td>\n",
       "      <td>197.55</td>\n",
       "      <td>198.09</td>\n",
       "      <td>194.53</td>\n",
       "    </tr>\n",
       "    <tr>\n",
       "      <th>2019-01-22</th>\n",
       "      <td>197.68</td>\n",
       "      <td>4642483.0000</td>\n",
       "      <td>200.50</td>\n",
       "      <td>201.47</td>\n",
       "      <td>195.92</td>\n",
       "    </tr>\n",
       "  </tbody>\n",
       "</table>\n",
       "</div>"
      ],
      "text/plain": [
       "             close        volume    open    high     low\n",
       "2019-02-01  196.54  3142186.0000  198.00  199.64  196.54\n",
       "2019-01-31  198.01  5602776.0000  200.10  202.35  196.95\n",
       "2019-01-30  202.48  2771723.0000  200.90  203.29  199.65\n",
       "2019-01-29  200.50  2690807.0000  199.00  201.97  197.87\n",
       "2019-01-28  199.72  2360245.0000  197.99  200.07  197.10\n",
       "2019-01-25  200.74  3274971.0000  199.83  201.19  199.42\n",
       "2019-01-24  197.80  2631804.0000  196.22  199.68  195.76\n",
       "2019-01-23  196.90  3409876.0000  197.55  198.09  194.53\n",
       "2019-01-22  197.68  4642483.0000  200.50  201.47  195.92"
      ]
     },
     "execution_count": 8,
     "metadata": {},
     "output_type": "execute_result"
    }
   ],
   "source": [
    "# Lets  again confirm fedral holiday\n",
    "#  Martin Luther King, Jr. Day jan 21\n",
    "df.loc['02-01-2019': '22-01-2019']"
   ]
  },
  {
   "cell_type": "code",
   "execution_count": 9,
   "metadata": {},
   "outputs": [
    {
     "name": "stdout",
     "output_type": "stream",
     "text": [
      "<class 'pandas.core.frame.DataFrame'>\n",
      "DatetimeIndex: 253 entries, 2019-03-13 to 2018-03-12\n",
      "Freq: -1C\n",
      "Data columns (total 5 columns):\n",
      "close     253 non-null float64\n",
      "volume    253 non-null object\n",
      "open      253 non-null float64\n",
      "high      253 non-null float64\n",
      "low       253 non-null float64\n",
      "dtypes: float64(4), object(1)\n",
      "memory usage: 21.9+ KB\n"
     ]
    }
   ],
   "source": [
    "df.info()"
   ]
  },
  {
   "cell_type": "code",
   "execution_count": 10,
   "metadata": {},
   "outputs": [
    {
     "name": "stdout",
     "output_type": "stream",
     "text": [
      "No Weekend date in df\n"
     ]
    }
   ],
   "source": [
    "# Check weekend\n",
    "if ((pd.DatetimeIndex(df.index).dayofweek // 5).any() == 1):\n",
    "    print('we have weekend date also')\n",
    "else:\n",
    "    print('No Weekend date in df')"
   ]
  },
  {
   "cell_type": "code",
   "execution_count": 11,
   "metadata": {},
   "outputs": [
    {
     "data": {
      "text/html": [
       "<div>\n",
       "<style scoped>\n",
       "    .dataframe tbody tr th:only-of-type {\n",
       "        vertical-align: middle;\n",
       "    }\n",
       "\n",
       "    .dataframe tbody tr th {\n",
       "        vertical-align: top;\n",
       "    }\n",
       "\n",
       "    .dataframe thead th {\n",
       "        text-align: right;\n",
       "    }\n",
       "</style>\n",
       "<table border=\"1\" class=\"dataframe\">\n",
       "  <thead>\n",
       "    <tr style=\"text-align: right;\">\n",
       "      <th></th>\n",
       "      <th>close</th>\n",
       "      <th>volume</th>\n",
       "      <th>open</th>\n",
       "      <th>high</th>\n",
       "      <th>low</th>\n",
       "    </tr>\n",
       "  </thead>\n",
       "  <tbody>\n",
       "    <tr>\n",
       "      <th>2018-03-12</th>\n",
       "      <td>273.38</td>\n",
       "      <td>3065270.0000</td>\n",
       "      <td>271.0</td>\n",
       "      <td>275.31</td>\n",
       "      <td>270.77</td>\n",
       "    </tr>\n",
       "  </tbody>\n",
       "</table>\n",
       "</div>"
      ],
      "text/plain": [
       "             close        volume   open    high     low\n",
       "2018-03-12  273.38  3065270.0000  271.0  275.31  270.77"
      ]
     },
     "execution_count": 11,
     "metadata": {},
     "output_type": "execute_result"
    }
   ],
   "source": [
    "# produce only one max value \n",
    "# df.loc[df['Close'].idxmax()]\n",
    "df.loc[df['close'] == df['close'].max()]"
   ]
  },
  {
   "cell_type": "code",
   "execution_count": 12,
   "metadata": {},
   "outputs": [
    {
     "data": {
      "text/html": [
       "<div>\n",
       "<style scoped>\n",
       "    .dataframe tbody tr th:only-of-type {\n",
       "        vertical-align: middle;\n",
       "    }\n",
       "\n",
       "    .dataframe tbody tr th {\n",
       "        vertical-align: top;\n",
       "    }\n",
       "\n",
       "    .dataframe thead th {\n",
       "        text-align: right;\n",
       "    }\n",
       "</style>\n",
       "<table border=\"1\" class=\"dataframe\">\n",
       "  <thead>\n",
       "    <tr style=\"text-align: right;\">\n",
       "      <th></th>\n",
       "      <th>close</th>\n",
       "      <th>volume</th>\n",
       "      <th>open</th>\n",
       "      <th>high</th>\n",
       "      <th>low</th>\n",
       "    </tr>\n",
       "  </thead>\n",
       "  <tbody>\n",
       "    <tr>\n",
       "      <th>2018-12-24</th>\n",
       "      <td>156.35</td>\n",
       "      <td>3783497.0000</td>\n",
       "      <td>159.0</td>\n",
       "      <td>160.0</td>\n",
       "      <td>154.31</td>\n",
       "    </tr>\n",
       "  </tbody>\n",
       "</table>\n",
       "</div>"
      ],
      "text/plain": [
       "             close        volume   open   high     low\n",
       "2018-12-24  156.35  3783497.0000  159.0  160.0  154.31"
      ]
     },
     "execution_count": 12,
     "metadata": {},
     "output_type": "execute_result"
    }
   ],
   "source": [
    "# get minimum value\n",
    "df.loc[df['close'] == df['close'].min()]"
   ]
  },
  {
   "cell_type": "code",
   "execution_count": 13,
   "metadata": {},
   "outputs": [
    {
     "data": {
      "text/html": [
       "<div>\n",
       "<style scoped>\n",
       "    .dataframe tbody tr th:only-of-type {\n",
       "        vertical-align: middle;\n",
       "    }\n",
       "\n",
       "    .dataframe tbody tr th {\n",
       "        vertical-align: top;\n",
       "    }\n",
       "\n",
       "    .dataframe thead th {\n",
       "        text-align: right;\n",
       "    }\n",
       "</style>\n",
       "<table border=\"1\" class=\"dataframe\">\n",
       "  <thead>\n",
       "    <tr style=\"text-align: right;\">\n",
       "      <th></th>\n",
       "      <th>close</th>\n",
       "      <th>volume</th>\n",
       "      <th>open</th>\n",
       "      <th>high</th>\n",
       "      <th>low</th>\n",
       "    </tr>\n",
       "  </thead>\n",
       "  <tbody>\n",
       "    <tr>\n",
       "      <th>2018-12-24</th>\n",
       "      <td>156.35</td>\n",
       "      <td>3783497.0000</td>\n",
       "      <td>159.0</td>\n",
       "      <td>160.00</td>\n",
       "      <td>154.31</td>\n",
       "    </tr>\n",
       "    <tr>\n",
       "      <th>2018-03-12</th>\n",
       "      <td>273.38</td>\n",
       "      <td>3065270.0000</td>\n",
       "      <td>271.0</td>\n",
       "      <td>275.31</td>\n",
       "      <td>270.77</td>\n",
       "    </tr>\n",
       "  </tbody>\n",
       "</table>\n",
       "</div>"
      ],
      "text/plain": [
       "             close        volume   open    high     low\n",
       "2018-12-24  156.35  3783497.0000  159.0  160.00  154.31\n",
       "2018-03-12  273.38  3065270.0000  271.0  275.31  270.77"
      ]
     },
     "execution_count": 13,
     "metadata": {},
     "output_type": "execute_result"
    }
   ],
   "source": [
    "# get rows having lowest and highest 'close' value\n",
    "df.loc[(df['close'] == df['close'].max() ) | (df['close'] == df['close'].min())]"
   ]
  },
  {
   "cell_type": "code",
   "execution_count": 14,
   "metadata": {},
   "outputs": [
    {
     "data": {
      "text/plain": [
       "196.02"
      ]
     },
     "execution_count": 14,
     "metadata": {},
     "output_type": "execute_result"
    }
   ],
   "source": [
    "# Average price of stock in month of March\n",
    "df['2019-03'].close.mean()"
   ]
  },
  {
   "cell_type": "code",
   "execution_count": 15,
   "metadata": {},
   "outputs": [
    {
     "data": {
      "text/plain": [
       "<matplotlib.axes._subplots.AxesSubplot at 0x206a98d9978>"
      ]
     },
     "execution_count": 15,
     "metadata": {},
     "output_type": "execute_result"
    },
    {
     "data": {
      "image/png": "[encoded data removed]",
      "text/plain": [
       "<Figure size 432x288 with 1 Axes>"
      ]
     },
     "metadata": {
      "needs_background": "light"
     },
     "output_type": "display_data"
    }
   ],
   "source": [
    "df['close'].plot()\n",
    "df['open'].plot()\n",
    "df['high'].plot()\n",
    "df['low'].plot()"
   ]
  },
  {
   "cell_type": "markdown",
   "metadata": {},
   "source": [
    "GS stock falls steeply between november to december.\n",
    "https://www.marketwatch.com/story/goldman-sachs-stock-drops-toward-2-year-low-to-shave-about-26-points-off-dows-price-2018-12-17"
   ]
  },
  {
   "cell_type": "code",
   "execution_count": 16,
   "metadata": {},
   "outputs": [
    {
     "data": {
      "text/plain": [
       "2018-03-31    258.446667\n",
       "2018-04-30    249.576667\n",
       "2018-05-31    236.466364\n",
       "2018-06-30    228.309524\n",
       "2018-07-31    230.740952\n",
       "2018-08-31    235.656957\n",
       "2018-09-30    231.080000\n",
       "2018-10-31    220.408636\n",
       "2018-11-30    208.553000\n",
       "2018-12-31    173.170000\n",
       "2019-01-31    188.026190\n",
       "2019-02-28    196.165789\n",
       "2019-03-31    196.020000\n",
       "Freq: M, Name: close, dtype: float64"
      ]
     },
     "execution_count": 16,
     "metadata": {},
     "output_type": "execute_result"
    }
   ],
   "source": [
    "# Convenience method for frequency conversion and resampling of time series.\n",
    "# Get mean price of all month\n",
    "df['close'].resample('M').mean()"
   ]
  },
  {
   "cell_type": "code",
   "execution_count": 17,
   "metadata": {},
   "outputs": [
    {
     "data": {
      "text/plain": [
       "<matplotlib.axes._subplots.AxesSubplot at 0x206a9cec898>"
      ]
     },
     "execution_count": 17,
     "metadata": {},
     "output_type": "execute_result"
    },
    {
     "data": {
      "image/png": "[encoded data removed]",
      "text/plain": [
       "<Figure size 432x288 with 1 Axes>"
      ]
     },
     "metadata": {
      "needs_background": "light"
     },
     "output_type": "display_data"
    }
   ],
   "source": [
    "df['close'].resample('M').mean().plot()\n",
    "df['close'].resample('Q').mean().plot()\n",
    "df['close'].resample('A').mean().plot()"
   ]
  },
  {
   "cell_type": "code",
   "execution_count": 18,
   "metadata": {},
   "outputs": [
    {
     "data": {
      "text/plain": [
       "<matplotlib.axes._subplots.AxesSubplot at 0x206a9d5eb70>"
      ]
     },
     "execution_count": 18,
     "metadata": {},
     "output_type": "execute_result"
    },
    {
     "data": {
      "image/png": "[encoded data removed]",
      "text/plain": [
       "<Figure size 432x288 with 1 Axes>"
      ]
     },
     "metadata": {
      "needs_background": "light"
     },
     "output_type": "display_data"
    }
   ],
   "source": [
    "df['close'].resample('W').mean().plot()"
   ]
  },
  {
   "cell_type": "code",
   "execution_count": null,
   "metadata": {},
   "outputs": [],
   "source": []
  }
 ],
 "metadata": {
  "kernelspec": {
   "display_name": "Python 3",
   "language": "python",
   "name": "python3"
  },
  "language_info": {
   "codemirror_mode": {
    "name": "ipython",
    "version": 3
   },
   "file_extension": ".py",
   "mimetype": "text/x-python",
   "name": "python",
   "nbconvert_exporter": "python",
   "pygments_lexer": "ipython3",
   "version": "3.7.1"
  }
 },
 "nbformat": 4,
 "nbformat_minor": 2
}
